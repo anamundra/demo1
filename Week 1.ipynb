{
 "cells": [
  {
   "cell_type": "code",
   "execution_count": 5,
   "id": "6c7bcca2",
   "metadata": {},
   "outputs": [
    {
     "name": "stdout",
     "output_type": "stream",
     "text": [
      "Enter your name: Anant\n",
      "Welcome to Deloitte!, Anant\n"
     ]
    }
   ],
   "source": [
    "name = input('Enter your name: ')\n",
    "print(\"Welcome to Deloitte!, \" + name)"
   ]
  },
  {
   "cell_type": "code",
   "execution_count": 43,
   "id": "9cbb5716",
   "metadata": {
    "scrolled": true
   },
   "outputs": [
    {
     "name": "stderr",
     "output_type": "stream",
     "text": [
      "C:\\Users\\anamundra\\Anaconda3\\lib\\site-packages\\seaborn\\_decorators.py:36: FutureWarning: Pass the following variables as keyword args: x, y. From version 0.12, the only valid positional argument will be `data`, and passing other arguments without an explicit keyword will result in an error or misinterpretation.\n",
      "  warnings.warn(\n"
     ]
    },
    {
     "data": {
      "image/png": "[encoded data removed]",
      "text/plain": [
       "<Figure size 432x288 with 1 Axes>"
      ]
     },
     "metadata": {},
     "output_type": "display_data"
    }
   ],
   "source": [
    "import math\n",
    "import seaborn as sns\n",
    "from matplotlib import pyplot as plt\n",
    "x = []\n",
    "y = []\n",
    "for i in range(-10,11):\n",
    "    x.append(i)\n",
    "    y.append(i**2)\n",
    "    #sns.set(style=\"ticks\")    \n",
    "sns.lineplot(x, y, color='g')\n",
    "sns.set_style(\"whitegrid\")\n",
    "plt.title('y = x^2', size = 18)\n",
    "plt.xlabel('x-axis',size = 12)\n",
    "plt.ylabel('y-axis', size = 12)\n",
    "\n",
    "plt.show()"
   ]
  },
  {
   "cell_type": "code",
   "execution_count": 58,
   "id": "a6e774f2",
   "metadata": {},
   "outputs": [
    {
     "data": {
      "text/html": [
       "<style type=\"text/css\">\n",
       "#T_2c3fe_row0_col0, #T_2c3fe_row0_col1, #T_2c3fe_row3_col2 {\n",
       "  background-color: #f7fcfd;\n",
       "  color: #000000;\n",
       "}\n",
       "#T_2c3fe_row0_col2 {\n",
       "  background-color: #59bb93;\n",
       "  color: #f1f1f1;\n",
       "}\n",
       "#T_2c3fe_row1_col0 {\n",
       "  background-color: #ddf2f3;\n",
       "  color: #000000;\n",
       "}\n",
       "#T_2c3fe_row1_col1, #T_2c3fe_row4_col1 {\n",
       "  background-color: #d6f0ee;\n",
       "  color: #000000;\n",
       "}\n",
       "#T_2c3fe_row1_col2 {\n",
       "  background-color: #3fab72;\n",
       "  color: #f1f1f1;\n",
       "}\n",
       "#T_2c3fe_row2_col0 {\n",
       "  background-color: #aadfd3;\n",
       "  color: #000000;\n",
       "}\n",
       "#T_2c3fe_row2_col1 {\n",
       "  background-color: #8fd4c2;\n",
       "  color: #000000;\n",
       "}\n",
       "#T_2c3fe_row2_col2, #T_2c3fe_row3_col1, #T_2c3fe_row4_col0 {\n",
       "  background-color: #00441b;\n",
       "  color: #f1f1f1;\n",
       "}\n",
       "#T_2c3fe_row3_col0 {\n",
       "  background-color: #65c2a3;\n",
       "  color: #000000;\n",
       "}\n",
       "#T_2c3fe_row4_col2 {\n",
       "  background-color: #006227;\n",
       "  color: #f1f1f1;\n",
       "}\n",
       "</style>\n",
       "<table id=\"T_2c3fe\">\n",
       "  <thead>\n",
       "    <tr>\n",
       "      <th class=\"blank level0\" >&nbsp;</th>\n",
       "      <th id=\"T_2c3fe_level0_col0\" class=\"col_heading level0 col0\" >column1</th>\n",
       "      <th id=\"T_2c3fe_level0_col1\" class=\"col_heading level0 col1\" >column2</th>\n",
       "      <th id=\"T_2c3fe_level0_col2\" class=\"col_heading level0 col2\" >column3</th>\n",
       "    </tr>\n",
       "  </thead>\n",
       "  <tbody>\n",
       "    <tr>\n",
       "      <th id=\"T_2c3fe_level0_row0\" class=\"row_heading level0 row0\" >0</th>\n",
       "      <td id=\"T_2c3fe_row0_col0\" class=\"data row0 col0\" >1</td>\n",
       "      <td id=\"T_2c3fe_row0_col1\" class=\"data row0 col1\" >4</td>\n",
       "      <td id=\"T_2c3fe_row0_col2\" class=\"data row0 col2\" >7</td>\n",
       "    </tr>\n",
       "    <tr>\n",
       "      <th id=\"T_2c3fe_level0_row1\" class=\"row_heading level0 row1\" >1</th>\n",
       "      <td id=\"T_2c3fe_row1_col0\" class=\"data row1 col0\" >2</td>\n",
       "      <td id=\"T_2c3fe_row1_col1\" class=\"data row1 col1\" >5</td>\n",
       "      <td id=\"T_2c3fe_row1_col2\" class=\"data row1 col2\" >8</td>\n",
       "    </tr>\n",
       "    <tr>\n",
       "      <th id=\"T_2c3fe_level0_row2\" class=\"row_heading level0 row2\" >2</th>\n",
       "      <td id=\"T_2c3fe_row2_col0\" class=\"data row2 col0\" >3</td>\n",
       "      <td id=\"T_2c3fe_row2_col1\" class=\"data row2 col1\" >6</td>\n",
       "      <td id=\"T_2c3fe_row2_col2\" class=\"data row2 col2\" >12</td>\n",
       "    </tr>\n",
       "    <tr>\n",
       "      <th id=\"T_2c3fe_level0_row3\" class=\"row_heading level0 row3\" >3</th>\n",
       "      <td id=\"T_2c3fe_row3_col0\" class=\"data row3 col0\" >4</td>\n",
       "      <td id=\"T_2c3fe_row3_col1\" class=\"data row3 col1\" >9</td>\n",
       "      <td id=\"T_2c3fe_row3_col2\" class=\"data row3 col2\" >1</td>\n",
       "    </tr>\n",
       "    <tr>\n",
       "      <th id=\"T_2c3fe_level0_row4\" class=\"row_heading level0 row4\" >4</th>\n",
       "      <td id=\"T_2c3fe_row4_col0\" class=\"data row4 col0\" >7</td>\n",
       "      <td id=\"T_2c3fe_row4_col1\" class=\"data row4 col1\" >5</td>\n",
       "      <td id=\"T_2c3fe_row4_col2\" class=\"data row4 col2\" >11</td>\n",
       "    </tr>\n",
       "  </tbody>\n",
       "</table>\n"
      ],
      "text/plain": [
       "<pandas.io.formats.style.Styler at 0x1d319ef7ca0>"
      ]
     },
     "execution_count": 58,
     "metadata": {},
     "output_type": "execute_result"
    }
   ],
   "source": [
    "import pandas as pd\n",
    "\n",
    "d = {'column1': [1, 2, 3, 4, 7], 'column2': [4, 5, 6, 9, 5], 'column3': [7, 8, 12, 1, 11]}\n",
    "\n",
    "df = pd.DataFrame(data=d)\n",
    "df.style.background_gradient(cmap=\"BuGn\")\n",
    "\n",
    "#df"
   ]
  },
  {
   "cell_type": "code",
   "execution_count": null,
   "id": "10d28a5a",
   "metadata": {},
   "outputs": [],
   "source": []
  }
 ],
 "metadata": {
  "kernelspec": {
   "display_name": "Python 3 (ipykernel)",
   "language": "python",
   "name": "python3"
  },
  "language_info": {
   "codemirror_mode": {
    "name": "ipython",
    "version": 3
   },
   "file_extension": ".py",
   "mimetype": "text/x-python",
   "name": "python",
   "nbconvert_exporter": "python",
   "pygments_lexer": "ipython3",
   "version": "3.9.12"
  }
 },
 "nbformat": 4,
 "nbformat_minor": 5
}
